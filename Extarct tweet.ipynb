{
  "nbformat": 4,
  "nbformat_minor": 0,
  "metadata": {
    "colab": {
      "name": "Untitled0.ipynb",
      "provenance": []
    },
    "kernelspec": {
      "name": "python3",
      "display_name": "Python 3"
    },
    "language_info": {
      "name": "python"
    }
  },
  "cells": [
    {
      "cell_type": "code",
      "source": [
        "# Importing Required Library\n"
      ],
      "metadata": {
        "id": "yvVxeE-s7VQJ"
      },
      "execution_count": null,
      "outputs": []
    },
    {
      "cell_type": "code",
      "source": [
        "!pip install -q snscrape==0.3.4"
      ],
      "metadata": {
        "id": "nXQ2pniX7gJ_"
      },
      "execution_count": 1,
      "outputs": []
    },
    {
      "cell_type": "code",
      "source": [
        "import timeit\n",
        "import os \n",
        "import pandas as pd\n",
        "from datetime import date"
      ],
      "metadata": {
        "id": "lXvLSecX7j5d"
      },
      "execution_count": 2,
      "outputs": []
    },
    {
      "cell_type": "code",
      "source": [
        "today = date.today()\n",
        "end_date = today\n",
        "print(end_date)"
      ],
      "metadata": {
        "colab": {
          "base_uri": "https://localhost:8080/"
        },
        "id": "13oVwVsh7xzV",
        "outputId": "6c68cd00-5760-457c-d9b6-72a584822b55"
      },
      "execution_count": 3,
      "outputs": [
        {
          "output_type": "stream",
          "name": "stdout",
          "text": [
            "2022-03-03\n"
          ]
        }
      ]
    },
    {
      "cell_type": "code",
      "source": [
        "today = date.today()\n",
        "end_date = today"
      ],
      "metadata": {
        "id": "k6bwQITc71we"
      },
      "execution_count": 4,
      "outputs": []
    },
    {
      "cell_type": "code",
      "source": [
        "from_date = '2020-03-02'\n",
        "search_term=[\"aap\",\"bjp\",\"congress\",\"sp\",\"bsp\"]\n",
        "max_result=1000"
      ],
      "metadata": {
        "id": "6VGX7KbZ75UX"
      },
      "execution_count": 5,
      "outputs": []
    },
    {
      "cell_type": "code",
      "source": [
        "#Total Number of Tweets for Search Terms\n",
        "\n",
        "start=timeit.timeit()\n",
        "def extract(search_term):\n",
        "  os.system(\"snscrape --format '{content!r}'\"+ f\" --max-results {max_result} --since {from_date} twitter-search '{search_term} until:{end_date}' > {search_term}.txt\")\n",
        "for i in range(len(search_term)):\n",
        "  extract(search_term[i])\n",
        "\n",
        "end=timeit.timeit()\n",
        "print(\"Time taken:: \",end-start)"
      ],
      "metadata": {
        "colab": {
          "base_uri": "https://localhost:8080/"
        },
        "id": "h3Vw6RC884zs",
        "outputId": "1b33ad10-d725-49e7-8587-b588c99df9dd"
      },
      "execution_count": 13,
      "outputs": [
        {
          "output_type": "stream",
          "name": "stdout",
          "text": [
            "Time taken::  -0.002456704999985959\n"
          ]
        }
      ]
    },
    {
      "cell_type": "code",
      "source": [
        "#Extracting Exact Tweeets\n",
        "\n",
        "start=timeit.timeit()\n",
        "text_files=['aap.txt','bjp.txt','bsp.txt','congress.txt','sp.txt']\n",
        "def merge_text_files(text_files):\n",
        "  with open('text.txt', 'w') as outfile:\n",
        "    for i in text_files:\n",
        "      with open(i) as infile:\n",
        "        for line in infile:\n",
        "          outfile.write(line)\n",
        "merge_text_files(text_files)\n",
        "\n",
        "end=timeit.timeit()\n",
        "print(\"Time taken:: \",end-start)\n"
      ],
      "metadata": {
        "colab": {
          "base_uri": "https://localhost:8080/"
        },
        "id": "UGb72yUt8-KU",
        "outputId": "d888aada-88b0-4d8c-a4d4-67b0ebca50d9"
      },
      "execution_count": 14,
      "outputs": [
        {
          "output_type": "stream",
          "name": "stdout",
          "text": [
            "Time taken::  -0.002378030000045328\n"
          ]
        }
      ]
    },
    {
      "cell_type": "code",
      "source": [
        "import pandas as pd\n",
        "df = pd.read_csv(\"text.txt\", header=None,names=[\"Text\"])"
      ],
      "metadata": {
        "id": "JXARw5i19T0p"
      },
      "execution_count": 15,
      "outputs": []
    },
    {
      "cell_type": "code",
      "source": [
        "#converting a txt file to a csv file\n",
        "df.to_csv(\"text.csv\")"
      ],
      "metadata": {
        "id": "UIRaJGER9Z_Q"
      },
      "execution_count": 16,
      "outputs": []
    }
  ]
}